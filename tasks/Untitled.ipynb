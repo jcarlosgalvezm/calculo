{
 "cells": [
  {
   "cell_type": "markdown",
   "metadata": {},
   "source": [
    "#### 1.\n",
    "\n"
   ]
  },
  {
   "cell_type": "markdown",
   "metadata": {},
   "source": [
    "Si $|x| = \\left\\{\\begin{matrix}x&&x\\geq0\\\\-x&&x<0\\end{matrix}\\right.$ , entonces:"
   ]
  },
  {
   "cell_type": "markdown",
   "metadata": {},
   "source": [
    "$-|x| \\leq x \\leq |x|$\n",
    "\n",
    "$-|y| \\leq y \\leq|y|$"
   ]
  },
  {
   "cell_type": "markdown",
   "metadata": {},
   "source": [
    "Si realizamos la suma de las dos inecuaciones:"
   ]
  },
  {
   "cell_type": "markdown",
   "metadata": {},
   "source": [
    "$-(|x|+|y|) \\leq x+y \\leq |x| + |y|$"
   ]
  },
  {
   "cell_type": "markdown",
   "metadata": {},
   "source": [
    "Aplicando las propiedades del valor absoluto $|a| \\leq b \\land -b \\leq a \\leq b$"
   ]
  },
  {
   "cell_type": "markdown",
   "metadata": {},
   "source": [
    "Donde $-(|x|+|y|) = -b$, $x+y = a$ y $|x| + |y|= b$, por lo tanto:"
   ]
  },
  {
   "cell_type": "markdown",
   "metadata": {},
   "source": [
    "$|x+y| \\leq |x| + |y|$"
   ]
  }
 ],
 "metadata": {},
 "nbformat": 4,
 "nbformat_minor": 4
}
