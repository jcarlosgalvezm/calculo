{
 "cells": [
  {
   "cell_type": "markdown",
   "metadata": {},
   "source": [
    "#### 1."
   ]
  },
  {
   "cell_type": "markdown",
   "metadata": {},
   "source": [
    "a)"
   ]
  },
  {
   "cell_type": "markdown",
   "metadata": {},
   "source": [
    "$(|x-1|<3) \\equiv (-3 < x-1 < 3) \\equiv (2 < x < 4)$"
   ]
  },
  {
   "cell_type": "markdown",
   "metadata": {},
   "source": [
    "La solución es el conjunto $(-2,4)$"
   ]
  },
  {
   "cell_type": "markdown",
   "metadata": {},
   "source": [
    "b)\n",
    "\n",
    "$(|2-3x| < 1) \\equiv (-1 < 2-3x < 1)$"
   ]
  },
  {
   "cell_type": "markdown",
   "metadata": {},
   "source": [
    "Multiplicamos todo la desigualdad por $-1$ para eliminar el coeficiente negativo de la $x$ y realizamos los cambios de signo pertinentes."
   ]
  },
  {
   "cell_type": "markdown",
   "metadata": {},
   "source": [
    " $(-1 < 3x-2 < 1) \\equiv (1 < 3x < 3) \\equiv  \\left(\\frac{1}{3} < x < 1\\right)$"
   ]
  },
  {
   "cell_type": "markdown",
   "metadata": {},
   "source": [
    "La solución es el conjunto $(\\frac{1}{3}, \n",
    "1)$"
   ]
  },
  {
   "cell_type": "markdown",
   "metadata": {},
   "source": [
    "c)"
   ]
  },
  {
   "cell_type": "markdown",
   "metadata": {},
   "source": [
    "$|x-2|>3$"
   ]
  },
  {
   "cell_type": "markdown",
   "metadata": {},
   "source": [
    "$(x-2 > 3) \\equiv x > 5$"
   ]
  },
  {
   "cell_type": "markdown",
   "metadata": {},
   "source": [
    "$(x-2 < -3) \\equiv x < -1$"
   ]
  },
  {
   "cell_type": "markdown",
   "metadata": {},
   "source": [
    "La solución es el conjunto $(-\\infty, -1) \\cup (5, \\infty) $"
   ]
  },
  {
   "cell_type": "markdown",
   "metadata": {},
   "source": [
    "#### 2."
   ]
  },
  {
   "cell_type": "markdown",
   "metadata": {},
   "source": [
    "a)"
   ]
  },
  {
   "cell_type": "markdown",
   "metadata": {},
   "source": [
    "$(|5 - \\frac{1}{x}| < 1) \\equiv (-1 < 5 - \\frac{1}{x} < 1)$"
   ]
  },
  {
   "cell_type": "markdown",
   "metadata": {},
   "source": [
    "Multiplicamos todo la desigualdad por $-1$ para eliminar el coeficiente negativo de la $x$ y realizamos los cambios de signo pertinentes."
   ]
  },
  {
   "cell_type": "markdown",
   "metadata": {},
   "source": [
    "$(-1<\\frac{1}{x}-5<1) \\equiv (4 < \\frac{1}{x} < 6) \\equiv (\\frac{1}{6} < x < \\frac{1}{4})$"
   ]
  },
  {
   "cell_type": "markdown",
   "metadata": {},
   "source": [
    "La solución es el conjunto $(\\frac{1}{6}, \n",
    "\\frac{1}{4})$"
   ]
  },
  {
   "cell_type": "markdown",
   "metadata": {},
   "source": [
    "b)"
   ]
  },
  {
   "cell_type": "markdown",
   "metadata": {},
   "source": [
    "$(|x^2 - 2| \\leq 2) \\equiv (-2 \\leq x^2 -2 \\leq 2) \\equiv (0 \\leq x^2 \\leq 4)$"
   ]
  },
  {
   "cell_type": "markdown",
   "metadata": {},
   "source": [
    "La solución es el conjunto $(-2, \n",
    "2)$"
   ]
  },
  {
   "cell_type": "markdown",
   "metadata": {},
   "source": [
    "#### 3."
   ]
  },
  {
   "cell_type": "markdown",
   "metadata": {},
   "source": [
    "$|x-4| < |x+2|$"
   ]
  },
  {
   "cell_type": "markdown",
   "metadata": {},
   "source": [
    "Por lo tanto:"
   ]
  },
  {
   "cell_type": "markdown",
   "metadata": {},
   "source": [
    "$-|x+2| < x-4 < |x+2|$"
   ]
  },
  {
   "cell_type": "markdown",
   "metadata": {},
   "source": [
    "De manera que se pueden dar 2 posibles valores para |x+2|:\n",
    "\n",
    "$|x+2| > 0 \\longrightarrow x \\geq 2 \\longrightarrow |x+2| = x+2$\n",
    "\n",
    "$|x+2| < 0 \\longrightarrow x < -2 \\longrightarrow |x+2| = -x-2$"
   ]
  },
  {
   "cell_type": "markdown",
   "metadata": {},
   "source": [
    "Para $|x+2| > 0 \\longrightarrow x \\geq 2$ :"
   ]
  },
  {
   "cell_type": "markdown",
   "metadata": {},
   "source": [
    "$(-x-2 < x-4 < x+2) \\equiv (-x+2 < x < x+6)$"
   ]
  },
  {
   "cell_type": "markdown",
   "metadata": {},
   "source": [
    "$(-2-2 < 2-4 < 2+2) \\equiv (-2+2 < x < 2+6)$"
   ]
  },
  {
   "cell_type": "markdown",
   "metadata": {},
   "source": [
    "Vemos que cumple para todo $x > 1$."
   ]
  },
  {
   "cell_type": "markdown",
   "metadata": {},
   "source": [
    "Para $|x+2| < 0 \\longrightarrow x < -2 $:\n",
    "\n",
    "$(x+2 < x-4 < -x-2) \\equiv (x+6 < x < -x+2)$"
   ]
  },
  {
   "cell_type": "markdown",
   "metadata": {},
   "source": [
    "$(-3+2 < -3-4 < 3-2)$  no cumple,\n",
    "\n",
    "por lo que solución entonces es el conjunto $(1,+\\infty)$"
   ]
  },
  {
   "cell_type": "markdown",
   "metadata": {},
   "source": [
    "#### 4."
   ]
  },
  {
   "cell_type": "markdown",
   "metadata": {},
   "source": [
    "$x < x^2 -12 < 3x$"
   ]
  },
  {
   "cell_type": "markdown",
   "metadata": {},
   "source": [
    "Se trata de dos inecuaciones:\n",
    "\n",
    "$x < x^2 - 12$\n",
    "\n",
    "$ x^2-12 < 3x$\n"
   ]
  },
  {
   "cell_type": "markdown",
   "metadata": {},
   "source": [
    "Para $x < x^2 - 12$ obtenemos la ecuación:\n",
    "\n",
    "$x^2-x-12 = 0$"
   ]
  },
  {
   "cell_type": "markdown",
   "metadata": {},
   "source": [
    "Resolvemos:"
   ]
  },
  {
   "cell_type": "markdown",
   "metadata": {},
   "source": [
    "$x = \\frac{1\\pm\\sqrt{1+48}}{2} = \\frac{1\\pm7}{2}\\left\\{\\begin{matrix}\\frac{1+7}{2} = 4\\\\\n",
    "\\frac{1-7}{2} = -3 \\end{matrix}\\right.$"
   ]
  },
  {
   "cell_type": "markdown",
   "metadata": {},
   "source": [
    "La solución de la primera inecuación es el conjunto $(-\\infty, -3)\\cup(4,+\\infty)$"
   ]
  },
  {
   "cell_type": "markdown",
   "metadata": {},
   "source": [
    "Para la segunda inecuación $x^2-12 < 3x$ obtenemos la ecuación:\n",
    "\n",
    "$x^2-3x-12 = 0$\n",
    "\n",
    "Resolvemos:\n"
   ]
  },
  {
   "cell_type": "markdown",
   "metadata": {},
   "source": [
    "$x = \\frac{3\\pm\\sqrt{9+48}}{2} = \\frac{3\\pm\\sqrt{57}}{2}\\left\\{\\begin{matrix}\\frac{3+\\sqrt{57}}{2} = 5.27\\\\\n",
    "\\frac{3-\\sqrt{57}}{2} = -2.27 \\end{matrix}\\right.$"
   ]
  },
  {
   "cell_type": "markdown",
   "metadata": {},
   "source": [
    "La solución de la inecuación seria el conjunto $(-2.27, 5.27)$\n",
    "\n",
    "Por tanto la solución de las dos inecuaciones es $(4,\\frac{3+\\sqrt{57}}{2})$  "
   ]
  },
  {
   "cell_type": "markdown",
   "metadata": {},
   "source": [
    "##### 5. "
   ]
  },
  {
   "cell_type": "markdown",
   "metadata": {},
   "source": [
    "$0 < |x-3| < \\frac{1}{3}$"
   ]
  },
  {
   "cell_type": "markdown",
   "metadata": {},
   "source": [
    "Es decir:"
   ]
  },
  {
   "cell_type": "markdown",
   "metadata": {},
   "source": [
    "$-\\frac{1}{3}< x-3 < 0 < x+3 < \\frac{1}{3}$"
   ]
  },
  {
   "cell_type": "markdown",
   "metadata": {},
   "source": [
    "o reduciendo partes de la inecuación:"
   ]
  },
  {
   "cell_type": "markdown",
   "metadata": {},
   "source": [
    "$-\\frac{1}{3} < x-3 < \\frac{1}{3}$"
   ]
  },
  {
   "cell_type": "markdown",
   "metadata": {},
   "source": [
    "Multiplicamos por 3 para eliminar las fracciones:\n",
    "\n",
    "$(-1 < 3x - 9 < 1) \\equiv (8 < 3x < 10) \\equiv (\\frac{8}{3} < x < \\frac{10}{3})$ "
   ]
  },
  {
   "cell_type": "markdown",
   "metadata": {},
   "source": [
    "por lo que la solución entonces es el conjunto $(\\frac{8}{3},\\frac{10}{3})$"
   ]
  },
  {
   "cell_type": "markdown",
   "metadata": {},
   "source": [
    "#### 6. "
   ]
  },
  {
   "cell_type": "markdown",
   "metadata": {},
   "source": [
    "$|x-2| + |x+2| \\leq 4$"
   ]
  },
  {
   "cell_type": "code",
   "execution_count": null,
   "metadata": {},
   "outputs": [],
   "source": []
  }
 ],
 "metadata": {
  "kernelspec": {
   "display_name": "Python 3",
   "language": "python",
   "name": "python3"
  },
  "language_info": {
   "codemirror_mode": {
    "name": "ipython",
    "version": 3
   },
   "file_extension": ".py",
   "mimetype": "text/x-python",
   "name": "python",
   "nbconvert_exporter": "python",
   "pygments_lexer": "ipython3",
   "version": "3.7.6"
  }
 },
 "nbformat": 4,
 "nbformat_minor": 4
}
