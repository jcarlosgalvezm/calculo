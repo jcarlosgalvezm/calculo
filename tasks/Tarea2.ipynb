{
 "cells": [
  {
   "cell_type": "markdown",
   "metadata": {},
   "source": [
    "#### 1."
   ]
  },
  {
   "cell_type": "markdown",
   "metadata": {},
   "source": [
    "a)\n",
    "\n",
    "$(|x-1|<3) \\equiv (-3 < x-1 < 3) \\equiv (2 < x < 4)$\n",
    "\n",
    "La solución es el conjunto $(-2,4)$\n",
    "\n",
    "b)\n",
    "\n",
    "$(|2-3x| < 1) \\equiv (-1 < 2-3x < 1)$\n",
    "\n",
    "Multiplicamos todo la desigualdad por $-1$ para eliminar el coeficiente negativo de la $x$ y realizamos los cambios de signo pertinentes.\n",
    "\n",
    " $(-1 < 3x-2 < 1) \\equiv (1 < 3x < 3) \\equiv  \\left(\\frac{1}{3} < x < 1\\right)$\n",
    "\n",
    "La solución es el conjunto $(\\frac{1}{3}, \n",
    "1)$\n",
    "\n",
    "c)\n",
    "\n",
    "$|x-2|>3$\n",
    "\n",
    "$(x-2 > 3) \\equiv x > 5$\n",
    "\n",
    "$(x-2 < -3) \\equiv x < -1$\n",
    "\n",
    "La solución es el conjunto $(-\\infty, -1) \\cup (5, \\infty) $"
   ]
  },
  {
   "cell_type": "markdown",
   "metadata": {},
   "source": [
    "#### 2."
   ]
  },
  {
   "cell_type": "markdown",
   "metadata": {},
   "source": [
    "a)\n",
    "\n",
    "$(|5 - \\frac{1}{x}| < 1) \\equiv (-1 < 5 - \\frac{1}{x} < 1)$\n",
    "\n",
    "Multiplicamos todo la desigualdad por $-1$ para eliminar el coeficiente negativo de la $x$ y realizamos los cambios de signo pertinentes.\n",
    "\n",
    "$(-1<\\frac{1}{x}-5<1) \\equiv (4 < \\frac{1}{x} < 6) \\equiv (\\frac{1}{6} < x < \\frac{1}{4})$\n",
    "\n",
    "La solución es el conjunto $(\\frac{1}{6}, \n",
    "\\frac{1}{4})$\n",
    "\n",
    "b)\n",
    "\n",
    "$(|x^2 - 2| \\leq 2) \\equiv (-2 \\leq x^2 -2 \\leq 2) \\equiv (0 \\leq x^2 \\leq 4)$\n",
    "\n",
    "La solución es el conjunto $(-2, \n",
    "2)$"
   ]
  },
  {
   "cell_type": "markdown",
   "metadata": {},
   "source": [
    "#### 3."
   ]
  },
  {
   "cell_type": "markdown",
   "metadata": {},
   "source": [
    "$|x-4| < |x+2|$\n",
    "\n",
    "Por lo tanto:\n",
    "\n",
    "$-|x+2| < x-4 < |x+2|$\n",
    "\n",
    "De manera que se pueden dar 2 posibles valores para |x+2|:\n",
    "\n",
    "$|x+2| > 0 \\longrightarrow x \\geq 2 \\longrightarrow |x+2| = x+2$\n",
    "\n",
    "$|x+2| < 0 \\longrightarrow x < -2 \\longrightarrow |x+2| = -x-2$\n",
    "\n",
    "Para $|x+2| > 0 \\longrightarrow x \\geq 2$ :\n",
    "\n",
    "$(-x-2 < x-4 < x+2) \\equiv (-x+2 < x < x+6)$\n",
    "\n",
    "$(-2-2 < 2-4 < 2+2) \\equiv (-2+2 < x < 2+6)$\n",
    "\n",
    "Vemos que cumple para todo $x > 1$.\n",
    "\n",
    "Para $|x+2| < 0 \\longrightarrow x < -2 $:\n",
    "\n",
    "$(x+2 < x-4 < -x-2) \\equiv (x+6 < x < -x+2)$\n",
    "\n",
    "$(-3+2 < -3-4 < 3-2)$  no cumple,\n",
    "\n",
    "por lo que solución entonces es el conjunto $(1,+\\infty)$"
   ]
  },
  {
   "cell_type": "markdown",
   "metadata": {},
   "source": [
    "#### 4."
   ]
  },
  {
   "cell_type": "markdown",
   "metadata": {},
   "source": [
    "$x < x^2 -12 < 3x$\n",
    "\n",
    "Se trata de dos inecuaciones:\n",
    "\n",
    "$x < x^2 - 12$\n",
    "\n",
    "$ x^2-12 < 3x$\n",
    "\n",
    "\n",
    "Para $x < x^2 - 12$ obtenemos la ecuación:\n",
    "\n",
    "$x^2-x-12 = 0$\n",
    "\n",
    "Resolvemos:\n",
    "\n",
    "$x = \\frac{1\\pm\\sqrt{1+48}}{2} = \\frac{1\\pm7}{2}\\left\\{\\begin{matrix}\\frac{1+7}{2} = 4\\\\\n",
    "\\frac{1-7}{2} = -3 \\end{matrix}\\right.$\n",
    "\n",
    "La solución de la primera inecuación es el conjunto $(-\\infty, -3)\\cup(4,+\\infty)$\n",
    "\n",
    "Para la segunda inecuación $x^2-12 < 3x$ obtenemos la ecuación:\n",
    "\n",
    "$x^2-3x-12 = 0$\n",
    "\n",
    "Resolvemos:\n",
    "\n",
    "\n",
    "$x = \\frac{3\\pm\\sqrt{9+48}}{2} = \\frac{3\\pm\\sqrt{57}}{2}\\left\\{\\begin{matrix}\\frac{3+\\sqrt{57}}{2} = 5.27\\\\\n",
    "\\frac{3-\\sqrt{57}}{2} = -2.27 \\end{matrix}\\right.$\n",
    "\n",
    "La solución de la inecuación seria el conjunto $(-2.27, 5.27)$\n",
    "\n",
    "Por tanto la solución de las dos inecuaciones es $(4,\\frac{3+\\sqrt{57}}{2})$  "
   ]
  },
  {
   "cell_type": "markdown",
   "metadata": {},
   "source": [
    "##### 5. "
   ]
  },
  {
   "cell_type": "markdown",
   "metadata": {},
   "source": [
    "$0 < |x-3| < \\frac{1}{3}$\n",
    "\n",
    "Es decir:\n",
    "\n",
    "$-\\frac{1}{3}< x-3 < 0 < x+3 < \\frac{1}{3}$\n",
    "\n",
    "o reduciendo partes de la inecuación:\n",
    "\n",
    "$-\\frac{1}{3} < x-3 < \\frac{1}{3}$\n",
    "\n",
    "Multiplicamos por 3 para eliminar las fracciones:\n",
    "\n",
    "$(-1 < 3x - 9 < 1) \\equiv (8 < 3x < 10) \\equiv (\\frac{8}{3} < x < \\frac{10}{3})$ \n",
    "\n",
    "por lo que la solución entonces es el conjunto $(\\frac{8}{3},\\frac{10}{3})$"
   ]
  },
  {
   "cell_type": "markdown",
   "metadata": {},
   "source": [
    "#### 6. "
   ]
  },
  {
   "cell_type": "markdown",
   "metadata": {},
   "source": [
    "$|x-2| + |x+2| \\leq 4$\n",
    "\n",
    "Teniendo la ecuación:\n",
    "$y = |x-2| + |x+2|$ :\n",
    "\n",
    "Si $x < 2$:\n",
    "\n",
    "$|x-2| = -x-2$\n",
    "\n",
    "$|x+2| = -x+2$\n",
    "\n",
    "Por lo tanto:\n",
    "\n",
    "$-x-2-x+2 = -2x$\n",
    "\n",
    "Si $-2 \\leq x \\leq 2$:\n",
    "\n",
    "$|x-2| = -x+2$\n",
    "\n",
    "$|x+2| = x+2$\n",
    "\n",
    "Por lo tanto:\n",
    "\n",
    "$y = -x+2+x+2 = 4$\n",
    "\n",
    "Si $x > 2$:\n",
    "\n",
    "$|x-2| = x-2$\n",
    "\n",
    "$|x+2| = x+2$\n",
    "\n",
    "Por lo tanto:\n",
    "\n",
    "$y = x-2+x+2 = 2x$\n",
    "\n",
    "$y = \\left\\{\\begin{matrix}-2x&&si\\ x<-2\\\\4&&si -2 \\leq x \\leq 2\\\\2x&&si\\ x>2\\end{matrix}\\right.$\n",
    "\n",
    "Se cumple que $y \\leq 4$ para $-2 \\leq x \\leq 2$ por lo tanto la solución corresponde al intervalo $[-2,2]$"
   ]
  },
  {
   "cell_type": "markdown",
   "metadata": {},
   "source": [
    "#### 7."
   ]
  },
  {
   "cell_type": "code",
   "execution_count": 126,
   "metadata": {},
   "outputs": [],
   "source": [
    "from sympy import symbols, solve_univariate_inequality\n",
    "x = symbols('x')"
   ]
  },
  {
   "cell_type": "markdown",
   "metadata": {},
   "source": [
    "a)\n",
    "\n",
    "$|x^2 - 3| > 1$"
   ]
  },
  {
   "cell_type": "code",
   "execution_count": 127,
   "metadata": {
    "scrolled": true
   },
   "outputs": [
    {
     "data": {
      "text/latex": [
       "$\\displaystyle \\left(-\\infty < x \\wedge x < -2\\right) \\vee \\left(2 < x \\wedge x < \\infty\\right) \\vee \\left(- \\sqrt{2} < x \\wedge x < \\sqrt{2}\\right)$"
      ],
      "text/plain": [
       "((-oo < x) & (x < -2)) | ((2 < x) & (x < oo)) | ((x < sqrt(2)) & (-sqrt(2) < x))"
      ]
     },
     "execution_count": 127,
     "metadata": {},
     "output_type": "execute_result"
    }
   ],
   "source": [
    "expr = abs(x**2 - 3) > 1\n",
    "solve_univariate_inequality(expr, x)"
   ]
  },
  {
   "cell_type": "markdown",
   "metadata": {},
   "source": [
    "La solución de la inecuación es:\n",
    "    \n",
    "$\\left(-\\infty, -2\\right) \\cup \\left(- \\sqrt{2}, \\sqrt{2}\\right) \\cup \\left(2, \\infty\\right)$\n",
    "\n",
    "b)\n",
    "\n",
    "$|x^2-x +1| > 1$"
   ]
  },
  {
   "cell_type": "code",
   "execution_count": 128,
   "metadata": {},
   "outputs": [
    {
     "data": {
      "text/latex": [
       "$\\displaystyle \\left(-\\infty < x \\wedge x < 0\\right) \\vee \\left(1 < x \\wedge x < \\infty\\right)$"
      ],
      "text/plain": [
       "((-oo < x) & (x < 0)) | ((1 < x) & (x < oo))"
      ]
     },
     "execution_count": 128,
     "metadata": {},
     "output_type": "execute_result"
    }
   ],
   "source": [
    "from sympy import symbols, solve_univariate_inequality\n",
    "x = symbols('x')\n",
    "expr = abs(x**2 - x + 1) > 1\n",
    "solve_univariate_inequality(expr, x)"
   ]
  },
  {
   "cell_type": "markdown",
   "metadata": {},
   "source": [
    "La solución de la inecuación es:\n",
    "$\\left(-\\infty, 0\\right) \\cup \\left(1,\\infty\\right)$"
   ]
  },
  {
   "cell_type": "markdown",
   "metadata": {},
   "source": [
    "#### 8."
   ]
  },
  {
   "cell_type": "markdown",
   "metadata": {},
   "source": [
    "$\\frac{|x-4|}{|x^2+5|}<1$"
   ]
  },
  {
   "cell_type": "code",
   "execution_count": 15,
   "metadata": {},
   "outputs": [
    {
     "data": {
      "text/latex": [
       "$\\displaystyle -\\infty < x \\wedge x < \\infty$"
      ],
      "text/plain": [
       "(-oo < x) & (x < oo)"
      ]
     },
     "execution_count": 15,
     "metadata": {},
     "output_type": "execute_result"
    }
   ],
   "source": [
    "from sympy import symbols, solve_univariate_inequality\n",
    "x = symbols('x')\n",
    "expr = (abs(x-4)/abs(x**2 + 5)) < 1\n",
    "solve_univariate_inequality(expr, x)"
   ]
  },
  {
   "cell_type": "markdown",
   "metadata": {},
   "source": [
    "La solución a la inecuación es $(-\\infty, \\infty)$, es decir toda la recta real."
   ]
  },
  {
   "cell_type": "markdown",
   "metadata": {},
   "source": [
    "#### 9."
   ]
  },
  {
   "cell_type": "code",
   "execution_count": 22,
   "metadata": {},
   "outputs": [],
   "source": [
    "from sympy import symbols\n",
    "from sympy.plotting import plot_implicit\n",
    "\n",
    "x, y = symbols('x y')"
   ]
  },
  {
   "cell_type": "markdown",
   "metadata": {},
   "source": [
    "a)"
   ]
  },
  {
   "cell_type": "markdown",
   "metadata": {},
   "source": [
    "$x>y$"
   ]
  },
  {
   "cell_type": "code",
   "execution_count": 25,
   "metadata": {},
   "outputs": [
    {
     "data": {
      "image/png": "[encoded data removed]",
      "text/plain": [
       "<Figure size 432x288 with 1 Axes>"
      ]
     },
     "metadata": {
      "needs_background": "light"
     },
     "output_type": "display_data"
    },
    {
     "name": "stdout",
     "output_type": "stream",
     "text": [
      "Plot object containing:\n",
      "[0]: Implicit equation: x > y for x over (-5.0, 5.0) and y over (-5.0, 5.0)\n"
     ]
    }
   ],
   "source": [
    "expr = x > y\n",
    "print(plot_implicit(expr))"
   ]
  },
  {
   "cell_type": "markdown",
   "metadata": {},
   "source": [
    "b)\n",
    "\n",
    "$y \\leq 2$"
   ]
  },
  {
   "cell_type": "code",
   "execution_count": 27,
   "metadata": {},
   "outputs": [
    {
     "data": {
      "image/png": "[encoded data removed]",
      "text/plain": [
       "<Figure size 432x288 with 1 Axes>"
      ]
     },
     "metadata": {
      "needs_background": "light"
     },
     "output_type": "display_data"
    },
    {
     "name": "stdout",
     "output_type": "stream",
     "text": [
      "Plot object containing:\n",
      "[0]: Implicit equation: y <= 2 for y over (-5.0, 5.0) and _f(y) over (-5.0, 5.0)\n"
     ]
    }
   ],
   "source": [
    "expr = y<=2\n",
    "print(plot_implicit(expr))"
   ]
  },
  {
   "cell_type": "markdown",
   "metadata": {},
   "source": [
    "c)"
   ]
  },
  {
   "cell_type": "markdown",
   "metadata": {},
   "source": [
    "$|x − y| < 1$"
   ]
  },
  {
   "cell_type": "code",
   "execution_count": 28,
   "metadata": {},
   "outputs": [
    {
     "data": {
      "image/png": "[encoded data removed]",
      "text/plain": [
       "<Figure size 432x288 with 1 Axes>"
      ]
     },
     "metadata": {
      "needs_background": "light"
     },
     "output_type": "display_data"
    },
    {
     "data": {
      "text/plain": [
       "<sympy.plotting.plot.Plot at 0x7fba04bcf290>"
      ]
     },
     "execution_count": 28,
     "metadata": {},
     "output_type": "execute_result"
    }
   ],
   "source": [
    "expr = abs(x-y) < 1\n",
    "plot_implicit(expr)"
   ]
  },
  {
   "cell_type": "markdown",
   "metadata": {},
   "source": [
    "#### 10."
   ]
  },
  {
   "cell_type": "markdown",
   "metadata": {},
   "source": [
    "a)\n",
    "\n",
    "$|x|+|y| = 1$"
   ]
  },
  {
   "cell_type": "code",
   "execution_count": 38,
   "metadata": {},
   "outputs": [
    {
     "data": {
      "image/png": "[encoded data removed]",
      "text/plain": [
       "<Figure size 432x288 with 1 Axes>"
      ]
     },
     "metadata": {
      "needs_background": "light"
     },
     "output_type": "display_data"
    },
    {
     "data": {
      "text/plain": [
       "<sympy.plotting.plot.Plot at 0x7fba03d686d0>"
      ]
     },
     "execution_count": 38,
     "metadata": {},
     "output_type": "execute_result"
    }
   ],
   "source": [
    "expr = abs(x) + abs(y) - 1\n",
    "plot_implicit(expr)"
   ]
  },
  {
   "cell_type": "markdown",
   "metadata": {},
   "source": [
    "b)\n",
    "\n",
    "$|x - 1| = |y-1|$ "
   ]
  },
  {
   "cell_type": "code",
   "execution_count": 40,
   "metadata": {},
   "outputs": [
    {
     "data": {
      "image/png": "[encoded data removed]",
      "text/plain": [
       "<Figure size 432x288 with 1 Axes>"
      ]
     },
     "metadata": {
      "needs_background": "light"
     },
     "output_type": "display_data"
    },
    {
     "data": {
      "text/plain": [
       "<sympy.plotting.plot.Plot at 0x7fba038a1bd0>"
      ]
     },
     "execution_count": 40,
     "metadata": {},
     "output_type": "execute_result"
    }
   ],
   "source": [
    "expr = abs(x-1) - abs(y-1) \n",
    "plot_implicit(expr)"
   ]
  },
  {
   "cell_type": "markdown",
   "metadata": {},
   "source": [
    "c)\n",
    "\n",
    "$xy=0$"
   ]
  },
  {
   "cell_type": "code",
   "execution_count": 43,
   "metadata": {},
   "outputs": [
    {
     "data": {
      "image/png": "[encoded data removed]",
      "text/plain": [
       "<Figure size 432x288 with 1 Axes>"
      ]
     },
     "metadata": {
      "needs_background": "light"
     },
     "output_type": "display_data"
    },
    {
     "data": {
      "text/plain": [
       "<sympy.plotting.plot.Plot at 0x7fba03949c10>"
      ]
     },
     "execution_count": 43,
     "metadata": {},
     "output_type": "execute_result"
    }
   ],
   "source": [
    "expr = x*y\n",
    "plot_implicit(expr)"
   ]
  },
  {
   "cell_type": "markdown",
   "metadata": {},
   "source": [
    "#### 11."
   ]
  },
  {
   "cell_type": "code",
   "execution_count": 114,
   "metadata": {},
   "outputs": [],
   "source": [
    "import numpy as np\n",
    "import matplotlib.pyplot as plt\n",
    "from sympy import symbols, plot_implicit"
   ]
  },
  {
   "cell_type": "markdown",
   "metadata": {},
   "source": [
    "\n",
    "a)\n",
    "\n",
    "$y = 2 - \\frac{|x|}{x}$"
   ]
  },
  {
   "cell_type": "code",
   "execution_count": 113,
   "metadata": {},
   "outputs": [
    {
     "data": {
      "image/png": "[encoded data removed]",
      "text/plain": [
       "<Figure size 432x288 with 1 Axes>"
      ]
     },
     "metadata": {
      "needs_background": "light"
     },
     "output_type": "display_data"
    }
   ],
   "source": [
    "x = np.arange(-5, 5, 0.01)\n",
    "y = (2-(abs(x)/x))\n",
    "\n",
    "ax = plt.gca() \n",
    "ax.plot(x, y)\n",
    "ax.spines['left'].set_position('zero')\n",
    "ax.spines['right'].set_color('none')\n",
    "ax.spines['bottom'].set_position('zero')\n",
    "ax.spines['top'].set_color('none')\n",
    "plt.xticks(np.arange(-5, 5.1))\n",
    "plt.yticks(np.arange(-2, 5.1))\n",
    "plt.show()"
   ]
  },
  {
   "cell_type": "markdown",
   "metadata": {},
   "source": [
    "b)\n",
    "\n",
    "$(x − 1)^2 + (y − 3)^2 < 1$"
   ]
  },
  {
   "cell_type": "code",
   "execution_count": 124,
   "metadata": {},
   "outputs": [
    {
     "data": {
      "image/png": "[encoded data removed]",
      "text/plain": [
       "<Figure size 432x288 with 1 Axes>"
      ]
     },
     "metadata": {
      "needs_background": "light"
     },
     "output_type": "display_data"
    },
    {
     "data": {
      "text/plain": [
       "<sympy.plotting.plot.Plot at 0x7fba01fd1490>"
      ]
     },
     "execution_count": 124,
     "metadata": {},
     "output_type": "execute_result"
    }
   ],
   "source": [
    "x, y = symbols('x y')\n",
    "expr = (x-1)**2 + (y-3)**2 < 1\n",
    "plot_implicit(expr)"
   ]
  },
  {
   "cell_type": "markdown",
   "metadata": {},
   "source": [
    "c)\n",
    "\n",
    "$\\frac{x^2}{4} + \\frac{y^2}{9} = 1$"
   ]
  },
  {
   "cell_type": "code",
   "execution_count": 125,
   "metadata": {},
   "outputs": [
    {
     "data": {
      "image/png": "[encoded data removed]",
      "text/plain": [
       "<Figure size 432x288 with 1 Axes>"
      ]
     },
     "metadata": {
      "needs_background": "light"
     },
     "output_type": "display_data"
    },
    {
     "data": {
      "text/plain": [
       "<sympy.plotting.plot.Plot at 0x7fba0202d050>"
      ]
     },
     "execution_count": 125,
     "metadata": {},
     "output_type": "execute_result"
    }
   ],
   "source": [
    "expr =  (x**2 / 4) + (y**2 / 9) -1\n",
    "plot_implicit(expr)"
   ]
  }
 ],
 "metadata": {
  "kernelspec": {
   "display_name": "Python 3",
   "language": "python",
   "name": "python3"
  },
  "language_info": {
   "codemirror_mode": {
    "name": "ipython",
    "version": 3
   },
   "file_extension": ".py",
   "mimetype": "text/x-python",
   "name": "python",
   "nbconvert_exporter": "python",
   "pygments_lexer": "ipython3",
   "version": "3.7.6"
  }
 },
 "nbformat": 4,
 "nbformat_minor": 4
}
