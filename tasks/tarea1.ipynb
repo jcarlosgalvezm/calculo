{
 "cells": [
  {
   "cell_type": "markdown",
   "metadata": {},
   "source": [
    "#### 1.\n",
    "\n",
    "$n^2 \\leq 2^{n-1}, \\forall n \\in \\mathbb{N}$, tal que $n \\geq 7$"
   ]
  },
  {
   "cell_type": "markdown",
   "metadata": {},
   "source": [
    "Para $n=7$, que es el menor valor que puede tomar $n$, tenemos que:\n",
    "    \n",
    "$7^2 = 49 \\leq 2^{7-1} = 2^6 = 64$"
   ]
  },
  {
   "cell_type": "markdown",
   "metadata": {},
   "source": [
    "Por lo tanto vemos que si cumple."
   ]
  },
  {
   "cell_type": "markdown",
   "metadata": {},
   "source": [
    "Para $n+1$:"
   ]
  },
  {
   "cell_type": "markdown",
   "metadata": {},
   "source": [
    "$\\begin{array}{ll}(n+1)^2\n",
    "& = &n^2 + 2n\\cdot 1 + 1\\\\\n",
    "&\\leq&n^2+2n+n&ya\\ que\\ n\\geq 7 \\geq 1\\\\\n",
    "&=&n^2+3n\\\\\n",
    "&\\leq&n^2+n^2&ya\\ que\\ n\\cdot n\\geq n+n+n,\\ y\\ n \\geq 7\\\\\n",
    "&=&2n^2\\\\\n",
    "&\\leq&2\\cdot2^{n-1}\\\\\n",
    "&=&2^n\\\\\n",
    "&=&2^{(n+1)-1}\\end{array}$"
   ]
  },
  {
   "cell_type": "markdown",
   "metadata": {},
   "source": [
    "Por lo tanto queda demostrado que para $n+1$, $(n+1)^2 \\leq 2^{(n+1)-1}$ tambien cumple."
   ]
  },
  {
   "cell_type": "markdown",
   "metadata": {},
   "source": [
    "#### 2. "
   ]
  },
  {
   "cell_type": "markdown",
   "metadata": {},
   "source": [
    "$1+2+\\ldots+n=\\sum_{k=1}^n k = \\frac{n(n+1)}{2}$, para todo $n \\in \\mathbb{N}$"
   ]
  },
  {
   "cell_type": "markdown",
   "metadata": {},
   "source": [
    "Para $k=1$:\n",
    "\n",
    "$\\sum_{k=1}^n k = 1 = \\frac{1(1+2)}{2} = \\frac{2}{2}$"
   ]
  },
  {
   "cell_type": "markdown",
   "metadata": {},
   "source": [
    "Suponiendo que esto también es cierto hasta $n-1$ para $n$:"
   ]
  },
  {
   "cell_type": "markdown",
   "metadata": {},
   "source": [
    "$\\sum_{k=1}^n k = \\frac{n(n+1)}{2} = k + \\sum_{k=1}^{n-1} k = n + \\frac{n(n-1)}{2} = \\frac{2n}{2} + \\frac{n^2-n}{2} = \\frac{2n+n^2-n}{2} = \\frac{n^2+n}{2} = \\frac{n(n+1)}{2}$"
   ]
  },
  {
   "cell_type": "markdown",
   "metadata": {},
   "source": [
    "Comprobamos así que se cumple para todo $n\\in\\mathbb{N}$"
   ]
  },
  {
   "cell_type": "markdown",
   "metadata": {},
   "source": [
    "#### 3."
   ]
  },
  {
   "cell_type": "markdown",
   "metadata": {},
   "source": [
    "$2^k \\leq (k+1)!$, para todo $n \\in \\mathbb{N}$"
   ]
  },
  {
   "cell_type": "markdown",
   "metadata": {},
   "source": [
    "Para $k=1$ efectivamente se cumple:"
   ]
  },
  {
   "cell_type": "markdown",
   "metadata": {},
   "source": [
    "$2^1 \\leq (1+1)! = 2! = 1\\cdot2$"
   ]
  },
  {
   "cell_type": "markdown",
   "metadata": {},
   "source": [
    "Si suponemos entonces que es cierto hasta $k-1$:\n",
    " \n",
    "$2^{k-1} \\leq k!$\n",
    "\n",
    "Entonces:\n",
    "\n",
    "$2^k = 2\\cdot 2^{k-1} \\leq 2\\cdot k! \\leq (k+1)!$"
   ]
  },
  {
   "cell_type": "markdown",
   "metadata": {},
   "source": [
    "Por lo que se cumple para todo $k \\in \\mathbb{N}$"
   ]
  },
  {
   "cell_type": "markdown",
   "metadata": {},
   "source": [
    "#### 4."
   ]
  },
  {
   "cell_type": "markdown",
   "metadata": {},
   "source": [
    "Si $r \\in \\mathbb{R}, r \\neq 1$, entonces para todo $n \\in \\mathbb{N}$,"
   ]
  },
  {
   "cell_type": "markdown",
   "metadata": {},
   "source": [
    "$\\sum_{k=0}^{n} r^k = 1 + r + r^2 + \\ldots + r^n = \\frac{1-r^{n+1}}{1-r}$"
   ]
  },
  {
   "cell_type": "markdown",
   "metadata": {},
   "source": [
    "Para $n=1$:\n",
    "    \n",
    "$\\frac{1-r^{1+1}}{1-r} = \\frac{(1+r)(1-r)}{1-r} = 1 +r = \\sum_{k=0}^{n=1} r^k$"
   ]
  },
  {
   "cell_type": "markdown",
   "metadata": {},
   "source": [
    "Para $n-1$ si:\n",
    "\n",
    "$\\sum_{k=0}^{n-1} = \\frac{1-r^n}{1-r}$"
   ]
  },
  {
   "cell_type": "markdown",
   "metadata": {},
   "source": [
    "Entonces:\n",
    "\n",
    "$\\sum_{k=0}^{n} = r^n + \\sum_{k=0}^{n-1}r^k = r^n + \\frac{1-r^n}{1-r} = \\frac{(1-r)\\cdot r^n}{1-r} + \\frac{1-r^n}{1-r} = \\frac{(1-r)\\cdot r^n + 1-r^n}{1-r} = \\frac{r^n - r^{n+1}+1-r^n}{1-r} = \\frac{1-r^{n+1}}{1-r}$"
   ]
  },
  {
   "cell_type": "markdown",
   "metadata": {},
   "source": [
    "Por lo que se cumple para todo $n \\in \\mathbb{N}$"
   ]
  },
  {
   "cell_type": "markdown",
   "metadata": {},
   "source": [
    "#### 5."
   ]
  },
  {
   "cell_type": "markdown",
   "metadata": {},
   "source": [
    "$\\sum_{k=1}^{n}k^2 = \\frac{n(n+1)(2n+1)}{6}$"
   ]
  },
  {
   "cell_type": "markdown",
   "metadata": {},
   "source": [
    "Para $n=1$:\n",
    "\n",
    "$\\sum_{k=1}^{n}k^2 = 1^2 = 1 = \\frac{n(n+1)(2n+1)}{6} = \\frac{1(1+1)(2\\cdot1+1)}{6} = \\frac{6}{6} = 1$"
   ]
  },
  {
   "cell_type": "markdown",
   "metadata": {},
   "source": [
    "Vemos que se cumple."
   ]
  },
  {
   "cell_type": "markdown",
   "metadata": {},
   "source": [
    "Si también es cierta para $n-1$:\n",
    "\n",
    "$\\sum_{k=1}^{n-1} k^2 = \\frac{n(n-1)(2(n-1)+1)}{6}$\n",
    "\n",
    "Tambien lo es para $n$:"
   ]
  },
  {
   "cell_type": "markdown",
   "metadata": {},
   "source": [
    "$\\sum_{k=1}^{n} k^2 = n^2 + \\sum_{k=1}^{n-1}k^2 = n^2 + \\frac{n(n-1)(2(n-1)+1)}{6} = \\frac{6n^2}{6}+ \\frac{n(n-1)(2n-1)}{6} =\\frac{6n^2 + (n^2 - n)(2n-1)}{6} = \\frac{2n^3-n^2-2n^2+n)}{6}  = \\frac{3n^2+2n^3+n}{6}$"
   ]
  },
  {
   "cell_type": "markdown",
   "metadata": {},
   "source": [
    "$\\sum_{k=1}^{n} k^2 = n^2 + \\sum_{k=1}^{n-1}k^2 = n^2 + \\frac{n(n-1)(2(n-1)+1)}{6} = \\frac{6n^2}{6}+ \\frac{n(n-1)(2n-1)}{6} =\\frac{6n^2 + (n^2 - n)(2n-1)}{6} = \\frac{2n^3-n^2-2n^2+n)}{6}  = \\frac{3n^2+2n^3+n}{6} = \\frac{n(n+1)(2n+1)}{6}$"
   ]
  },
  {
   "cell_type": "markdown",
   "metadata": {},
   "source": [
    "Por lo que se cumple para todo $n \\in \\mathbb{N}$"
   ]
  },
  {
   "cell_type": "markdown",
   "metadata": {},
   "source": [
    "#### 6."
   ]
  },
  {
   "cell_type": "markdown",
   "metadata": {},
   "source": [
    "$\\sum_{k=1}^{n}(2k-1) = n^2$"
   ]
  },
  {
   "cell_type": "markdown",
   "metadata": {},
   "source": [
    "Para $n = 1$:"
   ]
  },
  {
   "cell_type": "markdown",
   "metadata": {},
   "source": [
    "$2-1 = 1^2$"
   ]
  },
  {
   "cell_type": "markdown",
   "metadata": {},
   "source": [
    "Si también es cierta para $n-1$:"
   ]
  },
  {
   "cell_type": "markdown",
   "metadata": {},
   "source": [
    "$\\sum_{k=1}^{n-1}(2k-1)=(n-1)^2$\n",
    "\n",
    "Entonces para $n$:"
   ]
  },
  {
   "cell_type": "markdown",
   "metadata": {},
   "source": [
    "$\\sum_{k=1}^{n}(2k-1) = (2n-1) + \\sum_{k=1}^{n-1}(2k-1) = (2n-1)+(n-1)^2 = 2n -1 + (n-1)(n-1) = 2n-1+n^2-2n+1 = n^2$"
   ]
  },
  {
   "cell_type": "markdown",
   "metadata": {},
   "source": [
    "Por lo que se cumple para todo $n \\in \\mathbb{N}$"
   ]
  },
  {
   "cell_type": "markdown",
   "metadata": {},
   "source": [
    "#### 7."
   ]
  },
  {
   "cell_type": "markdown",
   "metadata": {},
   "source": [
    "$\\sum_{k=1}^{n}k(k+1) = \\frac{n(n+1)(n+2)}{3}$"
   ]
  },
  {
   "cell_type": "markdown",
   "metadata": {},
   "source": [
    "Para $n=1$:\n",
    "    \n",
    "$1(1+1) = \\frac{1(1+1)(1+2)}{3} = \\frac{1(1+1)\\cdot 3}{3} = 1(1+1)$  "
   ]
  },
  {
   "cell_type": "markdown",
   "metadata": {},
   "source": [
    "Suponemos que esto es valido también para $n-1$:\n",
    "\n",
    "$\\sum_{k}^{n-1} k(k+1) = \\frac{(n-1)((n-1)+1)((n-1)+2)}{3} = \\frac{(n-1)n(n+1)}{3}$\n",
    "\n",
    "Entonces para $n$:"
   ]
  },
  {
   "cell_type": "markdown",
   "metadata": {},
   "source": [
    "$\\sum_{k=1}^{n}k(k+1) = n(n+1) + \\sum_{k}^{n-1} k(k+1) = n(n+1) + \\frac{(n-1)n(n+1)}{3} = \\frac{3(n^2+n)+(n^2-n)(n+1)}{3} = \\frac{3n^2+2n+n^3}{3} = \\frac{n(n+1)(n+2)}{3}$"
   ]
  },
  {
   "cell_type": "markdown",
   "metadata": {},
   "source": [
    "Por lo que se cumple para todo $n \\in \\mathbb{N}$"
   ]
  },
  {
   "cell_type": "markdown",
   "metadata": {},
   "source": [
    "#### 8."
   ]
  },
  {
   "cell_type": "markdown",
   "metadata": {},
   "source": [
    "$\\sum_{k=1}^{n}k^3 = \\frac{n^2(n+1)^2}{4}$"
   ]
  },
  {
   "cell_type": "markdown",
   "metadata": {},
   "source": [
    "Para $n=1$ cumple:"
   ]
  },
  {
   "cell_type": "markdown",
   "metadata": {},
   "source": [
    "$1^3 = \\frac{1^2(1+1)^2}{4} = \\frac{4}{4} = 1$"
   ]
  },
  {
   "cell_type": "markdown",
   "metadata": {},
   "source": [
    "Suponemos que esto es valido también para $n-1$:\n",
    "\n",
    "$\\sum_{k=1}^{n-1}k^3 = \\frac{(n-1)^2(n-1+1)^2}{4} = \\frac{(n-1)^2n^2}{4}$"
   ]
  },
  {
   "cell_type": "markdown",
   "metadata": {},
   "source": [
    "Entonces para $n$:"
   ]
  },
  {
   "cell_type": "markdown",
   "metadata": {},
   "source": [
    "$\\sum_{k=1}^{n}k^3 = n^3 + \\sum_{k=1}^{n-1}k^3 = n^3 + \\frac{(n-1)^2n^2}{4} = \\frac{4n^3+(n^4-2n^3+n^2)}{4} = \\frac{n^4+2n^3+n^2}{4}= \\frac{n^4+2n^3+n^2}{4}$"
   ]
  },
  {
   "cell_type": "markdown",
   "metadata": {},
   "source": [
    "$\\sum_{k=1}^{n}k^3 = n^3 + \\sum_{k=1}^{n-1}k^3 = n^3 + \\frac{(n-1)^2n^2}{4} = \\frac{4n^3+(n^4-2n^3+n^2)}{4} = \\frac{n^4+2n^3+n^2}{4}= \\frac{n^2(n^2+2n+1)}{4} = \\frac{n^2(n+1)^2}{4}$"
   ]
  },
  {
   "cell_type": "markdown",
   "metadata": {},
   "source": [
    "Por lo que se cumple para todo $n \\in \\mathbb{N}$"
   ]
  },
  {
   "cell_type": "markdown",
   "metadata": {},
   "source": [
    "#### 9."
   ]
  },
  {
   "cell_type": "markdown",
   "metadata": {},
   "source": [
    "$\\sum_{k=1}^{n}k\\cdot(k!)=(n+1)!-1$"
   ]
  },
  {
   "cell_type": "markdown",
   "metadata": {},
   "source": [
    "Para $n=1$:\n",
    "\n",
    "$1 \\cdot 1! = 1 \\cdot 1 = 1 = 2 - 1 = (1+1)!-1$"
   ]
  },
  {
   "cell_type": "markdown",
   "metadata": {},
   "source": [
    "Suponemos que esto es valido también para $n-1$:\n",
    "\n",
    "$\\sum_{k=1}^{n-1}k\\cdot(k!)=n!-1$"
   ]
  },
  {
   "cell_type": "markdown",
   "metadata": {},
   "source": [
    "Entonces para $n$:"
   ]
  },
  {
   "cell_type": "markdown",
   "metadata": {},
   "source": [
    "$\\sum_{k=1}^{n} k \\cdot (k!) = n\\cdot (n!)+ \\sum_{k=1}^{n-1}k\\cdot(k!) = n\\cdot (n!) + n!-1 = n!(n+1)-1 = (n+1)!-1$"
   ]
  },
  {
   "cell_type": "markdown",
   "metadata": {},
   "source": [
    "Por lo que se cumple para todo $n \\in \\mathbb{N}$"
   ]
  },
  {
   "cell_type": "markdown",
   "metadata": {},
   "source": [
    "#### 10."
   ]
  },
  {
   "cell_type": "markdown",
   "metadata": {},
   "source": [
    "$\\sum_{k=1}^{n}\\frac{k}{2^k}=2-\\frac{n}{2^n}-\\frac{1}{2^{n-1}}$"
   ]
  },
  {
   "cell_type": "markdown",
   "metadata": {},
   "source": [
    "Para $n=1$:\n",
    "\n",
    "$\\frac{1}{2} = 2 - \\frac{1}{2} - 1 = \\frac{1}{2}$"
   ]
  },
  {
   "cell_type": "markdown",
   "metadata": {},
   "source": [
    "Suponemos que esto es valido también para $n-1$:\n",
    "\n",
    "$\\sum_{k=1}^{n-1} \\frac{k}{2^k} = 2 - \\frac{n-1}{2^{n-1}} - \\frac{1}{2^{n-2}}$"
   ]
  },
  {
   "cell_type": "markdown",
   "metadata": {},
   "source": [
    "Entonces para $n$:"
   ]
  },
  {
   "cell_type": "markdown",
   "metadata": {},
   "source": [
    "$\\sum_{k=1}^{n}\\frac{k}{2^k} =\\frac{n}{2^n} +  \\sum_{k=1}^{n-1} \\frac{k}{2^k} \\\\\n",
    "= \\frac{n}{2^n} + 2 - \\frac{n-1}{2^{n-1}} - \\frac{1}{2^{n-2}} \\\\\n",
    "= \\frac{n}{2^n} + 2 - \\frac{n-1}{2^n\\cdot 2^{-1}} - \\frac{1}{2^{n-2}} \\\\\n",
    "= \\frac{n}{2^n} + 2 - \\frac{2(n-1)}{2^n} - \\frac{1}{2^{n-2}}\\\\\n",
    "= \\frac{n}{2^n} + 2 - \\frac{2n-2}{2^n} - \\frac{1}{2^{n-2}}\\\\\n",
    "= 2 + \\frac{n}{2^n}-\\frac{2n-2}{2^n}-\\frac{1}{2^{n-2}}\\\\\n",
    "= 2 + \\frac{n}{2^n}-\\frac{2n-2}{2^n}-\\frac{1}{2^{n-1}2^{-1}} \\\\\n",
    "= 2 + \\frac{n-2n-2}{2^n}-\\frac{1}{2^{n-1}2^{-1}} \\\\\n",
    "= 2 - \\frac{n}{2^n}+\\frac{2\\cdot2^-1}{2^n\\cdot2^-1}-\\frac{1}{2^{n-1}2^{-1}} \\\\\n",
    "= 2 - \\frac{n}{2^n}+\\frac{2\\cdot \\frac{1}{2}}{2^{n-1}}-\\frac{1}{2^{n-1}\\cdot \\frac{1}{2}} \\\\\n",
    "= 2 - \\frac{n}{2^n}+\\frac{1}{2^{n-1}}-\\frac{1}{2^{n-1}\\cdot \\frac{1}{2}} \\\\\n",
    "= 2 - \\frac{n}{2^n}+\\frac{1}{2^{n-1}}-\\frac{1}{2^{n-1}}\\cdot \\frac{1}{\\frac{1}{2}} \\\\\n",
    "= 2 - \\frac{n}{2^n}+\\frac{1}{2^{n-1}}-\\frac{1}{2^{n-1}}\\cdot \\frac{2}{1}\\\\\n",
    "= 2 - \\frac{n}{2^n}+\\frac{1}{2^{n-1}}- \\frac{2}{2^{n-1}}\\\\\n",
    "= 2 - \\frac{n}{2^n}-\\frac{1}{2^{n-1}}\\\\\n",
    "$"
   ]
  },
  {
   "cell_type": "markdown",
   "metadata": {},
   "source": [
    "Por lo que se cumple para todo $n \\in \\mathbb{N}$"
   ]
  },
  {
   "cell_type": "markdown",
   "metadata": {},
   "source": [
    "#### 11."
   ]
  },
  {
   "cell_type": "markdown",
   "metadata": {},
   "source": [
    "$(1+a)^n \\leq 1+na, \\forall n \\in \\mathbb{N}$, tal que $a > 0$"
   ]
  },
  {
   "cell_type": "markdown",
   "metadata": {},
   "source": [
    "Para $n=1$:\n",
    "\n",
    "$(1+a) \\leq 1 + a$"
   ]
  },
  {
   "cell_type": "markdown",
   "metadata": {},
   "source": [
    "#### 12."
   ]
  },
  {
   "cell_type": "markdown",
   "metadata": {},
   "source": [
    "Sean $x_1 = 3$ y $x_2 = 5$. Para $n ≥ 3$, sea\n",
    "x_n = 3x_{n−1} − 2x_{n−2}\n",
    "Demuestra que $x_n = 2^n + 1$, para todo $n ∈ N$"
   ]
  }
 ],
 "metadata": {
  "kernelspec": {
   "display_name": "Python 3",
   "language": "python",
   "name": "python3"
  },
  "language_info": {
   "codemirror_mode": {
    "name": "ipython",
    "version": 3
   },
   "file_extension": ".py",
   "mimetype": "text/x-python",
   "name": "python",
   "nbconvert_exporter": "python",
   "pygments_lexer": "ipython3",
   "version": "3.7.6"
  }
 },
 "nbformat": 4,
 "nbformat_minor": 4
}
