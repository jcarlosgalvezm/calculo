{
 "cells": [
  {
   "cell_type": "markdown",
   "metadata": {},
   "source": [
    "#### 1."
   ]
  },
  {
   "cell_type": "markdown",
   "metadata": {},
   "source": [
    "a)\n",
    "\n",
    "$A = \\{r \\in \\mathbb{Q} : 2r^3 − 1 < 15\\}$\n",
    "\n",
    "$A = \\{r \\in \\mathbb{Q} : r^3 < \\frac{16}{2}\\}$\n",
    "\n",
    "$A = \\{r \\in \\mathbb{Q} : r^3 < 8 = 2^3\\}$\n",
    "\n",
    "$A = \\{r \\in \\mathbb{Q} : r < 2\\} = (-\\infty, 2)$\n",
    "\n",
    "Supremo: 2\n",
    "\n",
    "Máximo: ninguno, porque $2 \\notin A$\n",
    "\n",
    "Ínfimo: ninguno, porque el conjunto A no está acotado inferiormente\n",
    "\n",
    "Mínimo: ninguno, porque el conjunto A no está acotado inferiormente\n",
    "\n",
    "b)\n",
    "\n",
    " $B = \\{x \\in \\mathbb{R} \\backslash \\mathbb{Q} : x^2 + x ≤ 12\\}$"
   ]
  },
  {
   "cell_type": "code",
   "execution_count": 2,
   "metadata": {},
   "outputs": [
    {
     "data": {
      "text/plain": [
       "[-4, 3]"
      ]
     },
     "execution_count": 2,
     "metadata": {},
     "output_type": "execute_result"
    }
   ],
   "source": [
    "import sympy as sp\n",
    "x = sp.symbols('x')\n",
    "sp.solve(x**2+x-12, x)"
   ]
  },
  {
   "cell_type": "markdown",
   "metadata": {},
   "source": [
    " $B = \\{x \\in \\mathbb{R} \\backslash \\mathbb{Q} : x^2 + x ≤ 12\\} = [-4, 3] \\cup (\\mathbb{R} \\backslash \\mathbb{Q})$\n",
    "\n",
    "Supremo: 3\n",
    "\n",
    "Máximo: ninguno ya que $3 \\notin \\mathbb{R} \\backslash \\mathbb{Q}$ \n",
    "\n",
    "Ínfimo: -4\n",
    "\n",
    "Mínimo: ninguno ya que $-4 \\notin \\mathbb{R} \\backslash \\mathbb{Q}$"
   ]
  },
  {
   "cell_type": "markdown",
   "metadata": {},
   "source": [
    "#### 2."
   ]
  },
  {
   "cell_type": "markdown",
   "metadata": {},
   "source": [
    "a) \n",
    "\n",
    "$C = \\{\\frac{1}{n}: n \\in \\mathbb{Z}+\\} = (0 < \\frac{1}{n} \\leq 1 : n \\in \\mathbb{Z}+) = (0, 1]\\cup \\mathbb{R}$\n",
    "\n",
    "Supremo: 1\n",
    "\n",
    "Máximo: 1\n",
    "\n",
    "Ínfimo: 0\n",
    "\n",
    "Mínimo: ninguno ya que $0 \\notin C$\n",
    "\n",
    "b)\n",
    "\n",
    "$D = \\{\\frac{1}{n} + (−1)^n: n ∈ \\mathbb{Z}\\}$\n",
    "\n",
    "Hay que distinguir si $n$ es par $(2k)$ o $(2k+1)$, ya que esto influye directamente en que las potencias de $-1$ pertenezcan a $\\mathbb{Z}-$ o $\\mathbb{Z}+$ y por lo tanto en el resultado de $D$.\n",
    "\n",
    "Para $n = 2k = 2$:\n",
    "\n",
    "$D_{2k} = \\frac{1}{2k} + (-1)^{2k} = \\frac{1}{2k} + 1$\n",
    "\n",
    "$0 < D_{2k} < \\frac{1}{2} +1 = \\frac{3}{2}: \\forall\\ k \\in \\mathbb{R}$\n",
    "\n",
    "\n",
    "Para $n = 2k+1 = 3$:\n",
    "\n",
    "$D_{2k+1} = \\frac{1}{2k+1} + (-1)^{2k+1} = \\frac{1}{2k} - 1$\n",
    "\n",
    "$-1 < D_{2k+1} < \\frac{1}{3}-1 = -\\frac{2}{3} : \\forall\\ k \\in \\mathbb{R}$\n",
    "\n",
    "Por tanto:\n",
    "\n",
    "$D = D_{2k} \\cup D_{2k+1} = (-1, \\frac{3}{2}]$\n",
    "\n",
    "Supremo: $\\frac{3}{2}$\n",
    "\n",
    "Máximo: $\\frac{3}{2}$\n",
    "    \n",
    "Ínfimo: -1\n",
    "\n",
    "Mínimo: ninguno porque $-1 \\notin D$"
   ]
  },
  {
   "cell_type": "markdown",
   "metadata": {},
   "source": [
    "#### 3."
   ]
  },
  {
   "cell_type": "markdown",
   "metadata": {},
   "source": [
    "a)\n",
    "\n",
    "$A = \\{x \\in \\mathbb{R} : 3x^2 − 10x + 3 < 0\\}$\n",
    "\n",
    "$3x^2 − 10x + 3 = 0$"
   ]
  },
  {
   "cell_type": "code",
   "execution_count": 7,
   "metadata": {},
   "outputs": [
    {
     "data": {
      "text/plain": [
       "[1/3, 3]"
      ]
     },
     "execution_count": 7,
     "metadata": {},
     "output_type": "execute_result"
    }
   ],
   "source": [
    "import sympy as sp\n",
    "x = sp.symbols('x')\n",
    "sp.solve(3*x**2-10*x+3, x)"
   ]
  },
  {
   "cell_type": "markdown",
   "metadata": {},
   "source": [
    "$A = (\\frac{1}{3}, 3)$\n",
    "\n",
    "Supremo: 3\n",
    "\n",
    "Máximo: ninguno porque $3 \\notin A$\n",
    "\n",
    "Ínfimo: $\\frac{1}{3}$\n",
    "\n",
    "Mínimo: ninguno porque $\\frac{1}{3} \\notin A$\n",
    "\n",
    "b)\n",
    "\n",
    "$C = {x \\in \\mathbb{R} : (x−a)(x−b)(x−c)(x−d) < 0}$, donde $a < b < c < d$"
   ]
  },
  {
   "cell_type": "markdown",
   "metadata": {},
   "source": [
    "#### 4."
   ]
  },
  {
   "cell_type": "markdown",
   "metadata": {},
   "source": [
    "$B = {x \\in \\mathbb{R} : 5|x| − |x^2| − 6 > 0}$"
   ]
  }
 ],
 "metadata": {
  "kernelspec": {
   "display_name": "Python 3",
   "language": "python",
   "name": "python3"
  },
  "language_info": {
   "codemirror_mode": {
    "name": "ipython",
    "version": 3
   },
   "file_extension": ".py",
   "mimetype": "text/x-python",
   "name": "python",
   "nbconvert_exporter": "python",
   "pygments_lexer": "ipython3",
   "version": "3.7.6"
  }
 },
 "nbformat": 4,
 "nbformat_minor": 4
}
