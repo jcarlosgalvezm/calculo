{
 "cells": [
  {
   "cell_type": "markdown",
   "metadata": {},
   "source": [
    "#### 1."
   ]
  },
  {
   "cell_type": "code",
   "execution_count": null,
   "metadata": {},
   "outputs": [],
   "source": [
    "from sympy import symbols, limit, sqrt\n",
    "\n",
    "x = symbols('x')\n",
    "\n",
    "expr = (sqrt(1+2*x)-sqrt(1+3*x))/(x+2*x**2)\n",
    "limit(expr, x, 0)"
   ]
  },
  {
   "cell_type": "markdown",
   "metadata": {},
   "source": [
    "#### 2."
   ]
  },
  {
   "cell_type": "code",
   "execution_count": 8,
   "metadata": {},
   "outputs": [],
   "source": [
    "from sympy import symbols, limit, cos\n",
    "\n",
    "x = symbols('x')\n",
    "\n",
    "limit(cos(1/x), x, 0)\n",
    "\n",
    "limit(x*cos(1/x),x,0)"
   ]
  },
  {
   "cell_type": "markdown",
   "metadata": {},
   "source": [
    "#### 3."
   ]
  },
  {
   "cell_type": "code",
   "execution_count": 57,
   "metadata": {},
   "outputs": [
    {
     "data": {
      "text/latex": [
       "$\\displaystyle 1$"
      ],
      "text/plain": [
       "1"
      ]
     },
     "execution_count": 57,
     "metadata": {},
     "output_type": "execute_result"
    }
   ],
   "source": [
    "from sympy import symbols, limit, sqrt, log\n",
    "\n",
    "x = symbols('x')\n",
    "\n",
    "#a)\n",
    "\n",
    "expr = (sqrt(x)-1)/(x-1)\n",
    "limit(expr, x, 1)\n",
    "\n",
    "#b)\n",
    "\n",
    "a = 2\n",
    "expr = (x**2-(a+1)*x+a)/(x**3-a**3)\n",
    "limit(expr, x, a)\n",
    "\n",
    "#c)\n",
    "\n",
    "expr = ((1-x)/(1+x))**(1/x)\n",
    "limit(expr, x, 0)\n",
    "\n",
    "#d)\n",
    "\n",
    "expr = (1/x)*log(sqrt((1+x)/(1-x)))\n",
    "limit(expr, x, 0)"
   ]
  },
  {
   "cell_type": "markdown",
   "metadata": {},
   "source": [
    "#### 4)"
   ]
  },
  {
   "cell_type": "code",
   "execution_count": 53,
   "metadata": {},
   "outputs": [],
   "source": [
    "from sympy import symbols, limit, sqrt, log, sin, root, tan\n",
    "\n",
    "x,n,a = symbols('x n a')\n",
    "\n",
    "#a)\n",
    "\n",
    "expr = sin(2*x)/(3*x-5*x**3)\n",
    "limit(expr, x, 0)\n",
    "\n",
    "#b)\n",
    "\n",
    "expr = root((x**3+2*x**4), 3)/log(1+2*x)\n",
    "limit (expr, x, 0)\n",
    "\n",
    "#c)\n",
    "\n",
    "expr = ((x+1)**n - 1)/(n*x)\n",
    "limit(expr, x, 0)\n",
    "\n",
    "#d)\n",
    "\n",
    "expr = (root((x+1), n)-1)/x\n",
    "limit(expr, x, 0)\n",
    "\n",
    "#e)\n",
    "\n",
    "expr = tan(x**2 - 1)/(x-1)\n",
    "limit(expr, x, 1)\n",
    "\n",
    "#f)\n",
    "\n",
    "expr = (a**x - 1)/(x*log(a))\n",
    "limit(expr, x, 0)"
   ]
  }
 ],
 "metadata": {
  "kernelspec": {
   "display_name": "Python 3",
   "language": "python",
   "name": "python3"
  },
  "language_info": {
   "codemirror_mode": {
    "name": "ipython",
    "version": 3
   },
   "file_extension": ".py",
   "mimetype": "text/x-python",
   "name": "python",
   "nbconvert_exporter": "python",
   "pygments_lexer": "ipython3",
   "version": "3.7.6"
  }
 },
 "nbformat": 4,
 "nbformat_minor": 4
}
